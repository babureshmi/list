{
 "cells": [
  {
   "cell_type": "markdown",
   "id": "1ff4d863",
   "metadata": {},
   "source": [
    "# Program to convert temperature to and from celsius to fahrenheit"
   ]
  },
  {
   "cell_type": "code",
   "execution_count": 1,
   "id": "6707fcb4",
   "metadata": {},
   "outputs": [
    {
     "name": "stdout",
     "output_type": "stream",
     "text": [
      "Enter the temperature in celsius : 56\n",
      "Fahrenheit=  132.8\n"
     ]
    }
   ],
   "source": [
    "# Celsius to fahrenheit(f= (c * 9/5)+32)\n",
    "\n",
    "c=float(input(\"Enter the temperature in celsius : \"))\n",
    "f=(c*1.8)+32\n",
    "print(\"Fahrenheit= \",f)"
   ]
  },
  {
   "cell_type": "code",
   "execution_count": 3,
   "id": "c5390678",
   "metadata": {},
   "outputs": [
    {
     "name": "stdout",
     "output_type": "stream",
     "text": [
      "Enter the temperature in fahrenheit : 98\n",
      " Celsius=  36.66666666666667\n"
     ]
    }
   ],
   "source": [
    "# Fahrenheit to celsius (c=5/9*(f-32))\n",
    "\n",
    "f=float(input(\"Enter the temperature in fahrenheit : \"))\n",
    "c=5/9*(f-32)\n",
    "print(\" Celsius= \",c)"
   ]
  },
  {
   "cell_type": "markdown",
   "id": "77044726",
   "metadata": {},
   "source": [
    "# Program to concatenate the following dictionaries to create new one "
   ]
  },
  {
   "cell_type": "code",
   "execution_count": 1,
   "id": "b29ea94a",
   "metadata": {},
   "outputs": [
    {
     "name": "stdout",
     "output_type": "stream",
     "text": [
      "{1: 10, 2: 20}\n",
      "{1: 10, 2: 20, 3: 30, 4: 40}\n",
      "{1: 10, 2: 20, 3: 30, 4: 40, 5: 50, 6: 60}\n"
     ]
    }
   ],
   "source": [
    "dic1={1:10,2:20}\n",
    "dic2={3:30,4:40}\n",
    "dic3={5:50,6:60}\n",
    "newdic={}\n",
    "for i in (dic1,dic2,dic3):\n",
    "    newdic.update(i)\n",
    "    print(newdic)"
   ]
  },
  {
   "cell_type": "markdown",
   "id": "9cf975de",
   "metadata": {},
   "source": [
    "# Program to remove a key from a dictionary"
   ]
  },
  {
   "cell_type": "code",
   "execution_count": 2,
   "id": "7fbedebe",
   "metadata": {},
   "outputs": [
    {
     "name": "stdout",
     "output_type": "stream",
     "text": [
      "{'student name': 'Reshmi', 'course': 'data science', 'timing': '10 - 12', 'fee': '50000', 'place': 'avadi'}\n"
     ]
    }
   ],
   "source": [
    "mydict={'student name':'Reshmi','course':'data science','timing':'10 - 12','fee':'50000','place':'avadi'}\n",
    "print(mydict)"
   ]
  },
  {
   "cell_type": "code",
   "execution_count": 3,
   "id": "d91e522d",
   "metadata": {},
   "outputs": [
    {
     "name": "stdout",
     "output_type": "stream",
     "text": [
      "{'student name': 'Reshmi', 'course': 'data science', 'timing': '10 - 12', 'place': 'avadi'}\n"
     ]
    }
   ],
   "source": [
    "mydict.pop(\"fee\")\n",
    "print(mydict)"
   ]
  },
  {
   "cell_type": "markdown",
   "id": "662607c2",
   "metadata": {},
   "source": [
    "# Program to remove an item from a set,if it is present in the set"
   ]
  },
  {
   "cell_type": "code",
   "execution_count": 11,
   "id": "8ce9473f",
   "metadata": {},
   "outputs": [
    {
     "name": "stdout",
     "output_type": "stream",
     "text": [
      "{'biscuits', 'juice', 'cookies', 'sugar', 'bread', 'jam'}\n"
     ]
    }
   ],
   "source": [
    "myset={\"biscuits\",\"juice\",\"bread\",\"cookies\",\"sugar\",\"jam\"}\n",
    "print(myset)"
   ]
  },
  {
   "cell_type": "code",
   "execution_count": 12,
   "id": "ed574cce",
   "metadata": {},
   "outputs": [
    {
     "name": "stdout",
     "output_type": "stream",
     "text": [
      "{'biscuits', 'juice', 'cookies', 'bread', 'jam'}\n"
     ]
    }
   ],
   "source": [
    "if 'sugar' in myset:\n",
    "    myset.discard(\"sugar\")\n",
    "    print(myset)\n",
    "else:\n",
    "    print(\"item is not present\")\n",
    "    "
   ]
  },
  {
   "cell_type": "markdown",
   "id": "135364cb",
   "metadata": {},
   "source": [
    "# Program to find the lowest of two numbers"
   ]
  },
  {
   "cell_type": "code",
   "execution_count": 17,
   "id": "52c34ec6",
   "metadata": {},
   "outputs": [
    {
     "name": "stdout",
     "output_type": "stream",
     "text": [
      "Enter first number 4\n",
      "Enter second number2\n",
      "2  is lowest\n"
     ]
    }
   ],
   "source": [
    "a=int(input(\"Enter first number \"))\n",
    "b=int(input(\"Enter second number \"))\n",
    "\n",
    "if a<b:\n",
    "    print(a,\" is lowest\")\n",
    "else:\n",
    "    print(b,\" is lowest\")\n",
    "    "
   ]
  },
  {
   "cell_type": "markdown",
   "id": "f23bcbdf",
   "metadata": {},
   "source": [
    "# Program to get a age from a user,print senior citizen concession are avaiable if age is greater than 60"
   ]
  },
  {
   "cell_type": "code",
   "execution_count": 18,
   "id": "49d78838",
   "metadata": {},
   "outputs": [
    {
     "name": "stdout",
     "output_type": "stream",
     "text": [
      "Enter the age of the customer 4\n",
      "Concession is not available,customer age is below 60\n"
     ]
    }
   ],
   "source": [
    "age=int(input(\"Enter the age of the customer \"))\n",
    "if age>60:\n",
    "    print(\"Customer is senior citizen\")\n",
    "else:\n",
    "    print(\"Concession is not available,customer age is below 60\")"
   ]
  },
  {
   "cell_type": "code",
   "execution_count": null,
   "id": "5aa6ddbe",
   "metadata": {},
   "outputs": [],
   "source": []
  }
 ],
 "metadata": {
  "kernelspec": {
   "display_name": "Python 3 (ipykernel)",
   "language": "python",
   "name": "python3"
  },
  "language_info": {
   "codemirror_mode": {
    "name": "ipython",
    "version": 3
   },
   "file_extension": ".py",
   "mimetype": "text/x-python",
   "name": "python",
   "nbconvert_exporter": "python",
   "pygments_lexer": "ipython3",
   "version": "3.10.9"
  }
 },
 "nbformat": 4,
 "nbformat_minor": 5
}
